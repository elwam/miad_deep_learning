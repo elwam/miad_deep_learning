{
  "cells": [
    {
      "cell_type": "markdown",
      "source": [
        "### Cargue de datos inicial y generación de rutas para procesamiento de imágenes"
      ],
      "metadata": {
        "id": "Jidcb10sHwzF"
      }
    },
    {
      "cell_type": "code",
      "source": [
        "import pandas as pd"
      ],
      "metadata": {
        "id": "jgrZgWBMHwCi"
      },
      "execution_count": 1,
      "outputs": []
    },
    {
      "cell_type": "code",
      "execution_count": 2,
      "metadata": {
        "colab": {
          "base_uri": "https://localhost:8080/"
        },
        "id": "xR7aDzKNgNXC",
        "outputId": "b61ee810-8856-4398-b06f-377743cd24f4"
      },
      "outputs": [
        {
          "output_type": "stream",
          "name": "stdout",
          "text": [
            "Mounted at /content/drive\n"
          ]
        }
      ],
      "source": [
        "from google.colab import drive\n",
        "drive.mount('/content/drive')"
      ]
    },
    {
      "cell_type": "code",
      "execution_count": 3,
      "metadata": {
        "id": "KqTPQSwMgp9T"
      },
      "outputs": [],
      "source": [
        "ruta_fuente = '/content/drive/MyDrive/archivos_proyecto_deep/'"
      ]
    },
    {
      "cell_type": "code",
      "execution_count": 4,
      "metadata": {
        "colab": {
          "base_uri": "https://localhost:8080/"
        },
        "id": "BphhoHoQg-qF",
        "outputId": "a58b92aa-88ac-4f4d-eebc-ecf1e8651890"
      },
      "outputs": [
        {
          "output_type": "stream",
          "name": "stdout",
          "text": [
            "/content/drive/MyDrive/archivos_proyecto_deep/fuentes.xlsx\n"
          ]
        }
      ],
      "source": [
        "excel_datos = 'fuentes.xlsx'\n",
        "ruta_excel =ruta_fuente+excel_datos\n",
        "\n",
        "print(ruta_excel)\n",
        "datos_pautas = pd.read_excel(ruta_excel, sheet_name=\"Datos 1\")"
      ]
    },
    {
      "cell_type": "code",
      "execution_count": 5,
      "metadata": {
        "colab": {
          "base_uri": "https://localhost:8080/"
        },
        "id": "O_vX7Q3EiY4h",
        "outputId": "9dc2ab75-7b21-404c-91dd-df3373339fc0"
      },
      "outputs": [
        {
          "output_type": "execute_result",
          "data": {
            "text/plain": [
              "Index(['Fecha', 'industria', 'marca', 'Anunciante', 'Producto', 'Gatillador',\n",
              "       'Oferta', 'Nombre de campaña', 'Landing page de la campaña',\n",
              "       'Etiquetas de campaña', 'Sitio web', 'Secciones del sitio web',\n",
              "       'Editor', 'Formato', 'Tamaño de aviso', 'Duración (Video)',\n",
              "       'Omitible (Video)', 'Posición', 'Advertisement', 'Screenshot',\n",
              "       'Country', 'Device', 'Hospedado por', 'Vendido por', 'Impacto',\n",
              "       'Impresiones', 'Valorización (Local)', 'Valorización (Dólares)',\n",
              "       'Ads Count', 'Reporte web'],\n",
              "      dtype='object')"
            ]
          },
          "metadata": {},
          "execution_count": 5
        }
      ],
      "source": [
        "datos_pautas.columns"
      ]
    },
    {
      "cell_type": "code",
      "execution_count": null,
      "metadata": {
        "colab": {
          "base_uri": "https://localhost:8080/",
          "height": 261
        },
        "id": "9Lxnf1uGigMy",
        "outputId": "66693279-8c10-4a98-850c-a467acd8fd8d"
      },
      "outputs": [
        {
          "output_type": "stream",
          "name": "stdout",
          "text": [
            "Index(['marca', 'Producto', 'Advertisement', 'Gatillador'], dtype='object')\n",
            "(6000, 4)\n"
          ]
        },
        {
          "output_type": "execute_result",
          "data": {
            "text/plain": [
              "    marca Producto                                      Advertisement  \\\n",
              "0   claro    MOVIL  https://ads.admetricks.com/banner_a277eaa2a4aa...   \n",
              "92  entel  PREPAGO  https://ads.admetricks.com/banner_f87fe889bce9...   \n",
              "93  entel  PREPAGO  https://ads.admetricks.com/banner_e1fdbec912b5...   \n",
              "94  entel  PREPAGO  https://ads.admetricks.com/banner_a91ac79a5189...   \n",
              "95  entel  PREPAGO  https://ads.admetricks.com/banner_843052611b33...   \n",
              "\n",
              "   Gatillador  \n",
              "0      EQUIPO  \n",
              "92   SERVICIO  \n",
              "93   SERVICIO  \n",
              "94   SERVICIO  \n",
              "95   SERVICIO  "
            ],
            "text/html": [
              "\n",
              "  <div id=\"df-5607cc50-a3a0-46d7-be11-284d1a587591\" class=\"colab-df-container\">\n",
              "    <div>\n",
              "<style scoped>\n",
              "    .dataframe tbody tr th:only-of-type {\n",
              "        vertical-align: middle;\n",
              "    }\n",
              "\n",
              "    .dataframe tbody tr th {\n",
              "        vertical-align: top;\n",
              "    }\n",
              "\n",
              "    .dataframe thead th {\n",
              "        text-align: right;\n",
              "    }\n",
              "</style>\n",
              "<table border=\"1\" class=\"dataframe\">\n",
              "  <thead>\n",
              "    <tr style=\"text-align: right;\">\n",
              "      <th></th>\n",
              "      <th>marca</th>\n",
              "      <th>Producto</th>\n",
              "      <th>Advertisement</th>\n",
              "      <th>Gatillador</th>\n",
              "    </tr>\n",
              "  </thead>\n",
              "  <tbody>\n",
              "    <tr>\n",
              "      <th>0</th>\n",
              "      <td>claro</td>\n",
              "      <td>MOVIL</td>\n",
              "      <td>https://ads.admetricks.com/banner_a277eaa2a4aa...</td>\n",
              "      <td>EQUIPO</td>\n",
              "    </tr>\n",
              "    <tr>\n",
              "      <th>92</th>\n",
              "      <td>entel</td>\n",
              "      <td>PREPAGO</td>\n",
              "      <td>https://ads.admetricks.com/banner_f87fe889bce9...</td>\n",
              "      <td>SERVICIO</td>\n",
              "    </tr>\n",
              "    <tr>\n",
              "      <th>93</th>\n",
              "      <td>entel</td>\n",
              "      <td>PREPAGO</td>\n",
              "      <td>https://ads.admetricks.com/banner_e1fdbec912b5...</td>\n",
              "      <td>SERVICIO</td>\n",
              "    </tr>\n",
              "    <tr>\n",
              "      <th>94</th>\n",
              "      <td>entel</td>\n",
              "      <td>PREPAGO</td>\n",
              "      <td>https://ads.admetricks.com/banner_a91ac79a5189...</td>\n",
              "      <td>SERVICIO</td>\n",
              "    </tr>\n",
              "    <tr>\n",
              "      <th>95</th>\n",
              "      <td>entel</td>\n",
              "      <td>PREPAGO</td>\n",
              "      <td>https://ads.admetricks.com/banner_843052611b33...</td>\n",
              "      <td>SERVICIO</td>\n",
              "    </tr>\n",
              "  </tbody>\n",
              "</table>\n",
              "</div>\n",
              "    <div class=\"colab-df-buttons\">\n",
              "\n",
              "  <div class=\"colab-df-container\">\n",
              "    <button class=\"colab-df-convert\" onclick=\"convertToInteractive('df-5607cc50-a3a0-46d7-be11-284d1a587591')\"\n",
              "            title=\"Convert this dataframe to an interactive table.\"\n",
              "            style=\"display:none;\">\n",
              "\n",
              "  <svg xmlns=\"http://www.w3.org/2000/svg\" height=\"24px\" viewBox=\"0 -960 960 960\">\n",
              "    <path d=\"M120-120v-720h720v720H120Zm60-500h600v-160H180v160Zm220 220h160v-160H400v160Zm0 220h160v-160H400v160ZM180-400h160v-160H180v160Zm440 0h160v-160H620v160ZM180-180h160v-160H180v160Zm440 0h160v-160H620v160Z\"/>\n",
              "  </svg>\n",
              "    </button>\n",
              "\n",
              "  <style>\n",
              "    .colab-df-container {\n",
              "      display:flex;\n",
              "      gap: 12px;\n",
              "    }\n",
              "\n",
              "    .colab-df-convert {\n",
              "      background-color: #E8F0FE;\n",
              "      border: none;\n",
              "      border-radius: 50%;\n",
              "      cursor: pointer;\n",
              "      display: none;\n",
              "      fill: #1967D2;\n",
              "      height: 32px;\n",
              "      padding: 0 0 0 0;\n",
              "      width: 32px;\n",
              "    }\n",
              "\n",
              "    .colab-df-convert:hover {\n",
              "      background-color: #E2EBFA;\n",
              "      box-shadow: 0px 1px 2px rgba(60, 64, 67, 0.3), 0px 1px 3px 1px rgba(60, 64, 67, 0.15);\n",
              "      fill: #174EA6;\n",
              "    }\n",
              "\n",
              "    .colab-df-buttons div {\n",
              "      margin-bottom: 4px;\n",
              "    }\n",
              "\n",
              "    [theme=dark] .colab-df-convert {\n",
              "      background-color: #3B4455;\n",
              "      fill: #D2E3FC;\n",
              "    }\n",
              "\n",
              "    [theme=dark] .colab-df-convert:hover {\n",
              "      background-color: #434B5C;\n",
              "      box-shadow: 0px 1px 3px 1px rgba(0, 0, 0, 0.15);\n",
              "      filter: drop-shadow(0px 1px 2px rgba(0, 0, 0, 0.3));\n",
              "      fill: #FFFFFF;\n",
              "    }\n",
              "  </style>\n",
              "\n",
              "    <script>\n",
              "      const buttonEl =\n",
              "        document.querySelector('#df-5607cc50-a3a0-46d7-be11-284d1a587591 button.colab-df-convert');\n",
              "      buttonEl.style.display =\n",
              "        google.colab.kernel.accessAllowed ? 'block' : 'none';\n",
              "\n",
              "      async function convertToInteractive(key) {\n",
              "        const element = document.querySelector('#df-5607cc50-a3a0-46d7-be11-284d1a587591');\n",
              "        const dataTable =\n",
              "          await google.colab.kernel.invokeFunction('convertToInteractive',\n",
              "                                                    [key], {});\n",
              "        if (!dataTable) return;\n",
              "\n",
              "        const docLinkHtml = 'Like what you see? Visit the ' +\n",
              "          '<a target=\"_blank\" href=https://colab.research.google.com/notebooks/data_table.ipynb>data table notebook</a>'\n",
              "          + ' to learn more about interactive tables.';\n",
              "        element.innerHTML = '';\n",
              "        dataTable['output_type'] = 'display_data';\n",
              "        await google.colab.output.renderOutput(dataTable, element);\n",
              "        const docLink = document.createElement('div');\n",
              "        docLink.innerHTML = docLinkHtml;\n",
              "        element.appendChild(docLink);\n",
              "      }\n",
              "    </script>\n",
              "  </div>\n",
              "\n",
              "\n",
              "<div id=\"df-cace1961-ceb9-40d2-a1db-aab1aee8aed5\">\n",
              "  <button class=\"colab-df-quickchart\" onclick=\"quickchart('df-cace1961-ceb9-40d2-a1db-aab1aee8aed5')\"\n",
              "            title=\"Suggest charts\"\n",
              "            style=\"display:none;\">\n",
              "\n",
              "<svg xmlns=\"http://www.w3.org/2000/svg\" height=\"24px\"viewBox=\"0 0 24 24\"\n",
              "     width=\"24px\">\n",
              "    <g>\n",
              "        <path d=\"M19 3H5c-1.1 0-2 .9-2 2v14c0 1.1.9 2 2 2h14c1.1 0 2-.9 2-2V5c0-1.1-.9-2-2-2zM9 17H7v-7h2v7zm4 0h-2V7h2v10zm4 0h-2v-4h2v4z\"/>\n",
              "    </g>\n",
              "</svg>\n",
              "  </button>\n",
              "\n",
              "<style>\n",
              "  .colab-df-quickchart {\n",
              "      --bg-color: #E8F0FE;\n",
              "      --fill-color: #1967D2;\n",
              "      --hover-bg-color: #E2EBFA;\n",
              "      --hover-fill-color: #174EA6;\n",
              "      --disabled-fill-color: #AAA;\n",
              "      --disabled-bg-color: #DDD;\n",
              "  }\n",
              "\n",
              "  [theme=dark] .colab-df-quickchart {\n",
              "      --bg-color: #3B4455;\n",
              "      --fill-color: #D2E3FC;\n",
              "      --hover-bg-color: #434B5C;\n",
              "      --hover-fill-color: #FFFFFF;\n",
              "      --disabled-bg-color: #3B4455;\n",
              "      --disabled-fill-color: #666;\n",
              "  }\n",
              "\n",
              "  .colab-df-quickchart {\n",
              "    background-color: var(--bg-color);\n",
              "    border: none;\n",
              "    border-radius: 50%;\n",
              "    cursor: pointer;\n",
              "    display: none;\n",
              "    fill: var(--fill-color);\n",
              "    height: 32px;\n",
              "    padding: 0;\n",
              "    width: 32px;\n",
              "  }\n",
              "\n",
              "  .colab-df-quickchart:hover {\n",
              "    background-color: var(--hover-bg-color);\n",
              "    box-shadow: 0 1px 2px rgba(60, 64, 67, 0.3), 0 1px 3px 1px rgba(60, 64, 67, 0.15);\n",
              "    fill: var(--button-hover-fill-color);\n",
              "  }\n",
              "\n",
              "  .colab-df-quickchart-complete:disabled,\n",
              "  .colab-df-quickchart-complete:disabled:hover {\n",
              "    background-color: var(--disabled-bg-color);\n",
              "    fill: var(--disabled-fill-color);\n",
              "    box-shadow: none;\n",
              "  }\n",
              "\n",
              "  .colab-df-spinner {\n",
              "    border: 2px solid var(--fill-color);\n",
              "    border-color: transparent;\n",
              "    border-bottom-color: var(--fill-color);\n",
              "    animation:\n",
              "      spin 1s steps(1) infinite;\n",
              "  }\n",
              "\n",
              "  @keyframes spin {\n",
              "    0% {\n",
              "      border-color: transparent;\n",
              "      border-bottom-color: var(--fill-color);\n",
              "      border-left-color: var(--fill-color);\n",
              "    }\n",
              "    20% {\n",
              "      border-color: transparent;\n",
              "      border-left-color: var(--fill-color);\n",
              "      border-top-color: var(--fill-color);\n",
              "    }\n",
              "    30% {\n",
              "      border-color: transparent;\n",
              "      border-left-color: var(--fill-color);\n",
              "      border-top-color: var(--fill-color);\n",
              "      border-right-color: var(--fill-color);\n",
              "    }\n",
              "    40% {\n",
              "      border-color: transparent;\n",
              "      border-right-color: var(--fill-color);\n",
              "      border-top-color: var(--fill-color);\n",
              "    }\n",
              "    60% {\n",
              "      border-color: transparent;\n",
              "      border-right-color: var(--fill-color);\n",
              "    }\n",
              "    80% {\n",
              "      border-color: transparent;\n",
              "      border-right-color: var(--fill-color);\n",
              "      border-bottom-color: var(--fill-color);\n",
              "    }\n",
              "    90% {\n",
              "      border-color: transparent;\n",
              "      border-bottom-color: var(--fill-color);\n",
              "    }\n",
              "  }\n",
              "</style>\n",
              "\n",
              "  <script>\n",
              "    async function quickchart(key) {\n",
              "      const quickchartButtonEl =\n",
              "        document.querySelector('#' + key + ' button');\n",
              "      quickchartButtonEl.disabled = true;  // To prevent multiple clicks.\n",
              "      quickchartButtonEl.classList.add('colab-df-spinner');\n",
              "      try {\n",
              "        const charts = await google.colab.kernel.invokeFunction(\n",
              "            'suggestCharts', [key], {});\n",
              "      } catch (error) {\n",
              "        console.error('Error during call to suggestCharts:', error);\n",
              "      }\n",
              "      quickchartButtonEl.classList.remove('colab-df-spinner');\n",
              "      quickchartButtonEl.classList.add('colab-df-quickchart-complete');\n",
              "    }\n",
              "    (() => {\n",
              "      let quickchartButtonEl =\n",
              "        document.querySelector('#df-cace1961-ceb9-40d2-a1db-aab1aee8aed5 button');\n",
              "      quickchartButtonEl.style.display =\n",
              "        google.colab.kernel.accessAllowed ? 'block' : 'none';\n",
              "    })();\n",
              "  </script>\n",
              "</div>\n",
              "\n",
              "    </div>\n",
              "  </div>\n"
            ],
            "application/vnd.google.colaboratory.intrinsic+json": {
              "type": "dataframe",
              "variable_name": "datos_seleccionados",
              "summary": "{\n  \"name\": \"datos_seleccionados\",\n  \"rows\": 6000,\n  \"fields\": [\n    {\n      \"column\": \"marca\",\n      \"properties\": {\n        \"dtype\": \"category\",\n        \"num_unique_values\": 6,\n        \"samples\": [\n          \"claro\",\n          \"entel\",\n          \"directv\"\n        ],\n        \"semantic_type\": \"\",\n        \"description\": \"\"\n      }\n    },\n    {\n      \"column\": \"Producto\",\n      \"properties\": {\n        \"dtype\": \"category\",\n        \"num_unique_values\": 8,\n        \"samples\": [\n          \"PREPAGO\",\n          \"MARCA\",\n          \"MOVIL\"\n        ],\n        \"semantic_type\": \"\",\n        \"description\": \"\"\n      }\n    },\n    {\n      \"column\": \"Advertisement\",\n      \"properties\": {\n        \"dtype\": \"string\",\n        \"num_unique_values\": 4860,\n        \"samples\": [\n          \"https://ads.admetricks.com/banner_9a62850df1863f62b0f64ca903633aa5.jpg\",\n          \"https://ads.admetricks.com/banner_cc64659410d2e31d55571c8d7a3170d1.jpg\",\n          \"https://ads.admetricks.com/banner_b280b16a767a9d9d4d1fb03e9d384c27.jpg\"\n        ],\n        \"semantic_type\": \"\",\n        \"description\": \"\"\n      }\n    },\n    {\n      \"column\": \"Gatillador\",\n      \"properties\": {\n        \"dtype\": \"category\",\n        \"num_unique_values\": 27,\n        \"samples\": [\n          \"CUOTAS\",\n          \"ILIMITADO\",\n          \"VELOCIDAD\"\n        ],\n        \"semantic_type\": \"\",\n        \"description\": \"\"\n      }\n    }\n  ]\n}"
            }
          },
          "metadata": {},
          "execution_count": 15
        }
      ],
      "source": [
        "datos_seleccionados = datos_pautas[['marca', 'Producto', 'Advertisement', 'Gatillador']][datos_pautas['Advertisement'].str.contains('.jpg')].head(6000)\n",
        "print(datos_seleccionados.columns)\n",
        "print(datos_seleccionados.shape)\n",
        "datos_seleccionados.head(5)"
      ]
    },
    {
      "cell_type": "code",
      "execution_count": null,
      "metadata": {
        "colab": {
          "base_uri": "https://localhost:8080/"
        },
        "id": "d1WKoDUImQxB",
        "outputId": "7ed2a3ad-21ca-4f56-c300-557e4eea67e5"
      },
      "outputs": [
        {
          "output_type": "execute_result",
          "data": {
            "text/plain": [
              "(4862, 4)"
            ]
          },
          "metadata": {},
          "execution_count": 16
        }
      ],
      "source": [
        "datos_seleccionados = datos_seleccionados.drop_duplicates()\n",
        "datos_seleccionados.shape"
      ]
    },
    {
      "cell_type": "code",
      "source": [
        "# Cargar el dataframe\n",
        "df = datos_seleccionados\n",
        "\n",
        "\n",
        "# Recorrer cada fila del DataFrame\n",
        "for index, row in df.iterrows():\n",
        "  # Obtener el ID de imagen (asumiendo que está en la columna 'ID_Imagen')\n",
        "  id_imagen = index\n",
        "  operador = row['marca']\n",
        "\n",
        "  # Construir la ruta local de la imagen usando el ID como nombre de archivo\n",
        "  ruta_imagen = ruta_fuente+operador+'/'+str(id_imagen)+'.jpg'  # Ajustar el tipo de archivo\n",
        "\n",
        "  # Agregar la ruta local de la imagen a la fila\n",
        "  df.loc[index, 'ruta_local_imagen'] = ruta_imagen\n",
        "\n",
        "\n",
        "# Guardar el dataframe\n",
        "nombre_dataframe_rutas = 'dataframe_rutas.pkl'\n",
        "ruta_dataframe_rutas = ruta_fuente+nombre_dataframe_rutas\n",
        "print(ruta_dataframe_rutas)\n",
        "df.to_pickle(ruta_dataframe_rutas)\n",
        "\n",
        "# Imprimir el DataFrame actualizado\n",
        "df.head(6)"
      ],
      "metadata": {
        "colab": {
          "base_uri": "https://localhost:8080/",
          "height": 275
        },
        "id": "hFCY6TVrHXkp",
        "outputId": "382529c2-89ae-40f1-934e-850e8f2e0e26"
      },
      "execution_count": null,
      "outputs": [
        {
          "output_type": "stream",
          "name": "stdout",
          "text": [
            "/content/drive/MyDrive/archivos_proyecto_deep/dataframe_rutas.pkl\n"
          ]
        },
        {
          "output_type": "execute_result",
          "data": {
            "text/plain": [
              "    marca Producto                                      Advertisement  \\\n",
              "0   claro    MOVIL  https://ads.admetricks.com/banner_a277eaa2a4aa...   \n",
              "92  entel  PREPAGO  https://ads.admetricks.com/banner_f87fe889bce9...   \n",
              "93  entel  PREPAGO  https://ads.admetricks.com/banner_e1fdbec912b5...   \n",
              "94  entel  PREPAGO  https://ads.admetricks.com/banner_a91ac79a5189...   \n",
              "95  entel  PREPAGO  https://ads.admetricks.com/banner_843052611b33...   \n",
              "96  entel  PREPAGO  https://ads.admetricks.com/banner_7fc0aed40440...   \n",
              "\n",
              "   Gatillador                                  ruta_local_imagen  \n",
              "0      EQUIPO  /content/drive/MyDrive/archivos_proyecto_deep/...  \n",
              "92   SERVICIO  /content/drive/MyDrive/archivos_proyecto_deep/...  \n",
              "93   SERVICIO  /content/drive/MyDrive/archivos_proyecto_deep/...  \n",
              "94   SERVICIO  /content/drive/MyDrive/archivos_proyecto_deep/...  \n",
              "95   SERVICIO  /content/drive/MyDrive/archivos_proyecto_deep/...  \n",
              "96   SERVICIO  /content/drive/MyDrive/archivos_proyecto_deep/...  "
            ],
            "text/html": [
              "\n",
              "  <div id=\"df-6b05745a-ab7a-414c-9357-57a84e52c019\" class=\"colab-df-container\">\n",
              "    <div>\n",
              "<style scoped>\n",
              "    .dataframe tbody tr th:only-of-type {\n",
              "        vertical-align: middle;\n",
              "    }\n",
              "\n",
              "    .dataframe tbody tr th {\n",
              "        vertical-align: top;\n",
              "    }\n",
              "\n",
              "    .dataframe thead th {\n",
              "        text-align: right;\n",
              "    }\n",
              "</style>\n",
              "<table border=\"1\" class=\"dataframe\">\n",
              "  <thead>\n",
              "    <tr style=\"text-align: right;\">\n",
              "      <th></th>\n",
              "      <th>marca</th>\n",
              "      <th>Producto</th>\n",
              "      <th>Advertisement</th>\n",
              "      <th>Gatillador</th>\n",
              "      <th>ruta_local_imagen</th>\n",
              "    </tr>\n",
              "  </thead>\n",
              "  <tbody>\n",
              "    <tr>\n",
              "      <th>0</th>\n",
              "      <td>claro</td>\n",
              "      <td>MOVIL</td>\n",
              "      <td>https://ads.admetricks.com/banner_a277eaa2a4aa...</td>\n",
              "      <td>EQUIPO</td>\n",
              "      <td>/content/drive/MyDrive/archivos_proyecto_deep/...</td>\n",
              "    </tr>\n",
              "    <tr>\n",
              "      <th>92</th>\n",
              "      <td>entel</td>\n",
              "      <td>PREPAGO</td>\n",
              "      <td>https://ads.admetricks.com/banner_f87fe889bce9...</td>\n",
              "      <td>SERVICIO</td>\n",
              "      <td>/content/drive/MyDrive/archivos_proyecto_deep/...</td>\n",
              "    </tr>\n",
              "    <tr>\n",
              "      <th>93</th>\n",
              "      <td>entel</td>\n",
              "      <td>PREPAGO</td>\n",
              "      <td>https://ads.admetricks.com/banner_e1fdbec912b5...</td>\n",
              "      <td>SERVICIO</td>\n",
              "      <td>/content/drive/MyDrive/archivos_proyecto_deep/...</td>\n",
              "    </tr>\n",
              "    <tr>\n",
              "      <th>94</th>\n",
              "      <td>entel</td>\n",
              "      <td>PREPAGO</td>\n",
              "      <td>https://ads.admetricks.com/banner_a91ac79a5189...</td>\n",
              "      <td>SERVICIO</td>\n",
              "      <td>/content/drive/MyDrive/archivos_proyecto_deep/...</td>\n",
              "    </tr>\n",
              "    <tr>\n",
              "      <th>95</th>\n",
              "      <td>entel</td>\n",
              "      <td>PREPAGO</td>\n",
              "      <td>https://ads.admetricks.com/banner_843052611b33...</td>\n",
              "      <td>SERVICIO</td>\n",
              "      <td>/content/drive/MyDrive/archivos_proyecto_deep/...</td>\n",
              "    </tr>\n",
              "    <tr>\n",
              "      <th>96</th>\n",
              "      <td>entel</td>\n",
              "      <td>PREPAGO</td>\n",
              "      <td>https://ads.admetricks.com/banner_7fc0aed40440...</td>\n",
              "      <td>SERVICIO</td>\n",
              "      <td>/content/drive/MyDrive/archivos_proyecto_deep/...</td>\n",
              "    </tr>\n",
              "  </tbody>\n",
              "</table>\n",
              "</div>\n",
              "    <div class=\"colab-df-buttons\">\n",
              "\n",
              "  <div class=\"colab-df-container\">\n",
              "    <button class=\"colab-df-convert\" onclick=\"convertToInteractive('df-6b05745a-ab7a-414c-9357-57a84e52c019')\"\n",
              "            title=\"Convert this dataframe to an interactive table.\"\n",
              "            style=\"display:none;\">\n",
              "\n",
              "  <svg xmlns=\"http://www.w3.org/2000/svg\" height=\"24px\" viewBox=\"0 -960 960 960\">\n",
              "    <path d=\"M120-120v-720h720v720H120Zm60-500h600v-160H180v160Zm220 220h160v-160H400v160Zm0 220h160v-160H400v160ZM180-400h160v-160H180v160Zm440 0h160v-160H620v160ZM180-180h160v-160H180v160Zm440 0h160v-160H620v160Z\"/>\n",
              "  </svg>\n",
              "    </button>\n",
              "\n",
              "  <style>\n",
              "    .colab-df-container {\n",
              "      display:flex;\n",
              "      gap: 12px;\n",
              "    }\n",
              "\n",
              "    .colab-df-convert {\n",
              "      background-color: #E8F0FE;\n",
              "      border: none;\n",
              "      border-radius: 50%;\n",
              "      cursor: pointer;\n",
              "      display: none;\n",
              "      fill: #1967D2;\n",
              "      height: 32px;\n",
              "      padding: 0 0 0 0;\n",
              "      width: 32px;\n",
              "    }\n",
              "\n",
              "    .colab-df-convert:hover {\n",
              "      background-color: #E2EBFA;\n",
              "      box-shadow: 0px 1px 2px rgba(60, 64, 67, 0.3), 0px 1px 3px 1px rgba(60, 64, 67, 0.15);\n",
              "      fill: #174EA6;\n",
              "    }\n",
              "\n",
              "    .colab-df-buttons div {\n",
              "      margin-bottom: 4px;\n",
              "    }\n",
              "\n",
              "    [theme=dark] .colab-df-convert {\n",
              "      background-color: #3B4455;\n",
              "      fill: #D2E3FC;\n",
              "    }\n",
              "\n",
              "    [theme=dark] .colab-df-convert:hover {\n",
              "      background-color: #434B5C;\n",
              "      box-shadow: 0px 1px 3px 1px rgba(0, 0, 0, 0.15);\n",
              "      filter: drop-shadow(0px 1px 2px rgba(0, 0, 0, 0.3));\n",
              "      fill: #FFFFFF;\n",
              "    }\n",
              "  </style>\n",
              "\n",
              "    <script>\n",
              "      const buttonEl =\n",
              "        document.querySelector('#df-6b05745a-ab7a-414c-9357-57a84e52c019 button.colab-df-convert');\n",
              "      buttonEl.style.display =\n",
              "        google.colab.kernel.accessAllowed ? 'block' : 'none';\n",
              "\n",
              "      async function convertToInteractive(key) {\n",
              "        const element = document.querySelector('#df-6b05745a-ab7a-414c-9357-57a84e52c019');\n",
              "        const dataTable =\n",
              "          await google.colab.kernel.invokeFunction('convertToInteractive',\n",
              "                                                    [key], {});\n",
              "        if (!dataTable) return;\n",
              "\n",
              "        const docLinkHtml = 'Like what you see? Visit the ' +\n",
              "          '<a target=\"_blank\" href=https://colab.research.google.com/notebooks/data_table.ipynb>data table notebook</a>'\n",
              "          + ' to learn more about interactive tables.';\n",
              "        element.innerHTML = '';\n",
              "        dataTable['output_type'] = 'display_data';\n",
              "        await google.colab.output.renderOutput(dataTable, element);\n",
              "        const docLink = document.createElement('div');\n",
              "        docLink.innerHTML = docLinkHtml;\n",
              "        element.appendChild(docLink);\n",
              "      }\n",
              "    </script>\n",
              "  </div>\n",
              "\n",
              "\n",
              "<div id=\"df-0f18285e-e776-464c-a60f-028ba548638e\">\n",
              "  <button class=\"colab-df-quickchart\" onclick=\"quickchart('df-0f18285e-e776-464c-a60f-028ba548638e')\"\n",
              "            title=\"Suggest charts\"\n",
              "            style=\"display:none;\">\n",
              "\n",
              "<svg xmlns=\"http://www.w3.org/2000/svg\" height=\"24px\"viewBox=\"0 0 24 24\"\n",
              "     width=\"24px\">\n",
              "    <g>\n",
              "        <path d=\"M19 3H5c-1.1 0-2 .9-2 2v14c0 1.1.9 2 2 2h14c1.1 0 2-.9 2-2V5c0-1.1-.9-2-2-2zM9 17H7v-7h2v7zm4 0h-2V7h2v10zm4 0h-2v-4h2v4z\"/>\n",
              "    </g>\n",
              "</svg>\n",
              "  </button>\n",
              "\n",
              "<style>\n",
              "  .colab-df-quickchart {\n",
              "      --bg-color: #E8F0FE;\n",
              "      --fill-color: #1967D2;\n",
              "      --hover-bg-color: #E2EBFA;\n",
              "      --hover-fill-color: #174EA6;\n",
              "      --disabled-fill-color: #AAA;\n",
              "      --disabled-bg-color: #DDD;\n",
              "  }\n",
              "\n",
              "  [theme=dark] .colab-df-quickchart {\n",
              "      --bg-color: #3B4455;\n",
              "      --fill-color: #D2E3FC;\n",
              "      --hover-bg-color: #434B5C;\n",
              "      --hover-fill-color: #FFFFFF;\n",
              "      --disabled-bg-color: #3B4455;\n",
              "      --disabled-fill-color: #666;\n",
              "  }\n",
              "\n",
              "  .colab-df-quickchart {\n",
              "    background-color: var(--bg-color);\n",
              "    border: none;\n",
              "    border-radius: 50%;\n",
              "    cursor: pointer;\n",
              "    display: none;\n",
              "    fill: var(--fill-color);\n",
              "    height: 32px;\n",
              "    padding: 0;\n",
              "    width: 32px;\n",
              "  }\n",
              "\n",
              "  .colab-df-quickchart:hover {\n",
              "    background-color: var(--hover-bg-color);\n",
              "    box-shadow: 0 1px 2px rgba(60, 64, 67, 0.3), 0 1px 3px 1px rgba(60, 64, 67, 0.15);\n",
              "    fill: var(--button-hover-fill-color);\n",
              "  }\n",
              "\n",
              "  .colab-df-quickchart-complete:disabled,\n",
              "  .colab-df-quickchart-complete:disabled:hover {\n",
              "    background-color: var(--disabled-bg-color);\n",
              "    fill: var(--disabled-fill-color);\n",
              "    box-shadow: none;\n",
              "  }\n",
              "\n",
              "  .colab-df-spinner {\n",
              "    border: 2px solid var(--fill-color);\n",
              "    border-color: transparent;\n",
              "    border-bottom-color: var(--fill-color);\n",
              "    animation:\n",
              "      spin 1s steps(1) infinite;\n",
              "  }\n",
              "\n",
              "  @keyframes spin {\n",
              "    0% {\n",
              "      border-color: transparent;\n",
              "      border-bottom-color: var(--fill-color);\n",
              "      border-left-color: var(--fill-color);\n",
              "    }\n",
              "    20% {\n",
              "      border-color: transparent;\n",
              "      border-left-color: var(--fill-color);\n",
              "      border-top-color: var(--fill-color);\n",
              "    }\n",
              "    30% {\n",
              "      border-color: transparent;\n",
              "      border-left-color: var(--fill-color);\n",
              "      border-top-color: var(--fill-color);\n",
              "      border-right-color: var(--fill-color);\n",
              "    }\n",
              "    40% {\n",
              "      border-color: transparent;\n",
              "      border-right-color: var(--fill-color);\n",
              "      border-top-color: var(--fill-color);\n",
              "    }\n",
              "    60% {\n",
              "      border-color: transparent;\n",
              "      border-right-color: var(--fill-color);\n",
              "    }\n",
              "    80% {\n",
              "      border-color: transparent;\n",
              "      border-right-color: var(--fill-color);\n",
              "      border-bottom-color: var(--fill-color);\n",
              "    }\n",
              "    90% {\n",
              "      border-color: transparent;\n",
              "      border-bottom-color: var(--fill-color);\n",
              "    }\n",
              "  }\n",
              "</style>\n",
              "\n",
              "  <script>\n",
              "    async function quickchart(key) {\n",
              "      const quickchartButtonEl =\n",
              "        document.querySelector('#' + key + ' button');\n",
              "      quickchartButtonEl.disabled = true;  // To prevent multiple clicks.\n",
              "      quickchartButtonEl.classList.add('colab-df-spinner');\n",
              "      try {\n",
              "        const charts = await google.colab.kernel.invokeFunction(\n",
              "            'suggestCharts', [key], {});\n",
              "      } catch (error) {\n",
              "        console.error('Error during call to suggestCharts:', error);\n",
              "      }\n",
              "      quickchartButtonEl.classList.remove('colab-df-spinner');\n",
              "      quickchartButtonEl.classList.add('colab-df-quickchart-complete');\n",
              "    }\n",
              "    (() => {\n",
              "      let quickchartButtonEl =\n",
              "        document.querySelector('#df-0f18285e-e776-464c-a60f-028ba548638e button');\n",
              "      quickchartButtonEl.style.display =\n",
              "        google.colab.kernel.accessAllowed ? 'block' : 'none';\n",
              "    })();\n",
              "  </script>\n",
              "</div>\n",
              "\n",
              "    </div>\n",
              "  </div>\n"
            ],
            "application/vnd.google.colaboratory.intrinsic+json": {
              "type": "dataframe",
              "variable_name": "df",
              "summary": "{\n  \"name\": \"df\",\n  \"rows\": 4862,\n  \"fields\": [\n    {\n      \"column\": \"marca\",\n      \"properties\": {\n        \"dtype\": \"category\",\n        \"num_unique_values\": 6,\n        \"samples\": [\n          \"claro\",\n          \"entel\",\n          \"directv\"\n        ],\n        \"semantic_type\": \"\",\n        \"description\": \"\"\n      }\n    },\n    {\n      \"column\": \"Producto\",\n      \"properties\": {\n        \"dtype\": \"category\",\n        \"num_unique_values\": 8,\n        \"samples\": [\n          \"PREPAGO\",\n          \"MARCA\",\n          \"MOVIL\"\n        ],\n        \"semantic_type\": \"\",\n        \"description\": \"\"\n      }\n    },\n    {\n      \"column\": \"Advertisement\",\n      \"properties\": {\n        \"dtype\": \"string\",\n        \"num_unique_values\": 4860,\n        \"samples\": [\n          \"https://ads.admetricks.com/banner_9a62850df1863f62b0f64ca903633aa5.jpg\",\n          \"https://ads.admetricks.com/banner_cc64659410d2e31d55571c8d7a3170d1.jpg\",\n          \"https://ads.admetricks.com/banner_b280b16a767a9d9d4d1fb03e9d384c27.jpg\"\n        ],\n        \"semantic_type\": \"\",\n        \"description\": \"\"\n      }\n    },\n    {\n      \"column\": \"Gatillador\",\n      \"properties\": {\n        \"dtype\": \"category\",\n        \"num_unique_values\": 27,\n        \"samples\": [\n          \"CUOTAS\",\n          \"ILIMITADO\",\n          \"VELOCIDAD\"\n        ],\n        \"semantic_type\": \"\",\n        \"description\": \"\"\n      }\n    },\n    {\n      \"column\": \"ruta_local_imagen\",\n      \"properties\": {\n        \"dtype\": \"string\",\n        \"num_unique_values\": 4862,\n        \"samples\": [\n          \"/content/drive/MyDrive/archivos_proyecto_deep/claro/20888.jpg\",\n          \"/content/drive/MyDrive/archivos_proyecto_deep/movistar/22406.jpg\",\n          \"/content/drive/MyDrive/archivos_proyecto_deep/entel/21568.jpg\"\n        ],\n        \"semantic_type\": \"\",\n        \"description\": \"\"\n      }\n    }\n  ]\n}"
            }
          },
          "metadata": {},
          "execution_count": 61
        }
      ]
    },
    {
      "cell_type": "code",
      "source": [
        "import pickle\n",
        "\n",
        "with open('/content/drive/MyDrive/archivos_proyecto_deep/dataframe_rutas.pkl', 'rb') as f:\n",
        "    df = pickle.load(f)\n",
        "\n",
        "df.head()"
      ],
      "metadata": {
        "colab": {
          "base_uri": "https://localhost:8080/",
          "height": 206
        },
        "id": "GgZnoRGQ145h",
        "outputId": "2f1623a1-2b14-484e-f9c3-abbdd5c5d8dc"
      },
      "execution_count": 6,
      "outputs": [
        {
          "output_type": "execute_result",
          "data": {
            "text/plain": [
              "    marca Producto                                      Advertisement  \\\n",
              "0   claro    MOVIL  https://ads.admetricks.com/banner_a277eaa2a4aa...   \n",
              "92  entel  PREPAGO  https://ads.admetricks.com/banner_f87fe889bce9...   \n",
              "93  entel  PREPAGO  https://ads.admetricks.com/banner_e1fdbec912b5...   \n",
              "94  entel  PREPAGO  https://ads.admetricks.com/banner_a91ac79a5189...   \n",
              "95  entel  PREPAGO  https://ads.admetricks.com/banner_843052611b33...   \n",
              "\n",
              "   Gatillador                                  ruta_local_imagen  \n",
              "0      EQUIPO  /content/drive/MyDrive/archivos_proyecto_deep/...  \n",
              "92   SERVICIO  /content/drive/MyDrive/archivos_proyecto_deep/...  \n",
              "93   SERVICIO  /content/drive/MyDrive/archivos_proyecto_deep/...  \n",
              "94   SERVICIO  /content/drive/MyDrive/archivos_proyecto_deep/...  \n",
              "95   SERVICIO  /content/drive/MyDrive/archivos_proyecto_deep/...  "
            ],
            "text/html": [
              "\n",
              "  <div id=\"df-4619a096-1062-4aee-841b-d0ab0ceed292\" class=\"colab-df-container\">\n",
              "    <div>\n",
              "<style scoped>\n",
              "    .dataframe tbody tr th:only-of-type {\n",
              "        vertical-align: middle;\n",
              "    }\n",
              "\n",
              "    .dataframe tbody tr th {\n",
              "        vertical-align: top;\n",
              "    }\n",
              "\n",
              "    .dataframe thead th {\n",
              "        text-align: right;\n",
              "    }\n",
              "</style>\n",
              "<table border=\"1\" class=\"dataframe\">\n",
              "  <thead>\n",
              "    <tr style=\"text-align: right;\">\n",
              "      <th></th>\n",
              "      <th>marca</th>\n",
              "      <th>Producto</th>\n",
              "      <th>Advertisement</th>\n",
              "      <th>Gatillador</th>\n",
              "      <th>ruta_local_imagen</th>\n",
              "    </tr>\n",
              "  </thead>\n",
              "  <tbody>\n",
              "    <tr>\n",
              "      <th>0</th>\n",
              "      <td>claro</td>\n",
              "      <td>MOVIL</td>\n",
              "      <td>https://ads.admetricks.com/banner_a277eaa2a4aa...</td>\n",
              "      <td>EQUIPO</td>\n",
              "      <td>/content/drive/MyDrive/archivos_proyecto_deep/...</td>\n",
              "    </tr>\n",
              "    <tr>\n",
              "      <th>92</th>\n",
              "      <td>entel</td>\n",
              "      <td>PREPAGO</td>\n",
              "      <td>https://ads.admetricks.com/banner_f87fe889bce9...</td>\n",
              "      <td>SERVICIO</td>\n",
              "      <td>/content/drive/MyDrive/archivos_proyecto_deep/...</td>\n",
              "    </tr>\n",
              "    <tr>\n",
              "      <th>93</th>\n",
              "      <td>entel</td>\n",
              "      <td>PREPAGO</td>\n",
              "      <td>https://ads.admetricks.com/banner_e1fdbec912b5...</td>\n",
              "      <td>SERVICIO</td>\n",
              "      <td>/content/drive/MyDrive/archivos_proyecto_deep/...</td>\n",
              "    </tr>\n",
              "    <tr>\n",
              "      <th>94</th>\n",
              "      <td>entel</td>\n",
              "      <td>PREPAGO</td>\n",
              "      <td>https://ads.admetricks.com/banner_a91ac79a5189...</td>\n",
              "      <td>SERVICIO</td>\n",
              "      <td>/content/drive/MyDrive/archivos_proyecto_deep/...</td>\n",
              "    </tr>\n",
              "    <tr>\n",
              "      <th>95</th>\n",
              "      <td>entel</td>\n",
              "      <td>PREPAGO</td>\n",
              "      <td>https://ads.admetricks.com/banner_843052611b33...</td>\n",
              "      <td>SERVICIO</td>\n",
              "      <td>/content/drive/MyDrive/archivos_proyecto_deep/...</td>\n",
              "    </tr>\n",
              "  </tbody>\n",
              "</table>\n",
              "</div>\n",
              "    <div class=\"colab-df-buttons\">\n",
              "\n",
              "  <div class=\"colab-df-container\">\n",
              "    <button class=\"colab-df-convert\" onclick=\"convertToInteractive('df-4619a096-1062-4aee-841b-d0ab0ceed292')\"\n",
              "            title=\"Convert this dataframe to an interactive table.\"\n",
              "            style=\"display:none;\">\n",
              "\n",
              "  <svg xmlns=\"http://www.w3.org/2000/svg\" height=\"24px\" viewBox=\"0 -960 960 960\">\n",
              "    <path d=\"M120-120v-720h720v720H120Zm60-500h600v-160H180v160Zm220 220h160v-160H400v160Zm0 220h160v-160H400v160ZM180-400h160v-160H180v160Zm440 0h160v-160H620v160ZM180-180h160v-160H180v160Zm440 0h160v-160H620v160Z\"/>\n",
              "  </svg>\n",
              "    </button>\n",
              "\n",
              "  <style>\n",
              "    .colab-df-container {\n",
              "      display:flex;\n",
              "      gap: 12px;\n",
              "    }\n",
              "\n",
              "    .colab-df-convert {\n",
              "      background-color: #E8F0FE;\n",
              "      border: none;\n",
              "      border-radius: 50%;\n",
              "      cursor: pointer;\n",
              "      display: none;\n",
              "      fill: #1967D2;\n",
              "      height: 32px;\n",
              "      padding: 0 0 0 0;\n",
              "      width: 32px;\n",
              "    }\n",
              "\n",
              "    .colab-df-convert:hover {\n",
              "      background-color: #E2EBFA;\n",
              "      box-shadow: 0px 1px 2px rgba(60, 64, 67, 0.3), 0px 1px 3px 1px rgba(60, 64, 67, 0.15);\n",
              "      fill: #174EA6;\n",
              "    }\n",
              "\n",
              "    .colab-df-buttons div {\n",
              "      margin-bottom: 4px;\n",
              "    }\n",
              "\n",
              "    [theme=dark] .colab-df-convert {\n",
              "      background-color: #3B4455;\n",
              "      fill: #D2E3FC;\n",
              "    }\n",
              "\n",
              "    [theme=dark] .colab-df-convert:hover {\n",
              "      background-color: #434B5C;\n",
              "      box-shadow: 0px 1px 3px 1px rgba(0, 0, 0, 0.15);\n",
              "      filter: drop-shadow(0px 1px 2px rgba(0, 0, 0, 0.3));\n",
              "      fill: #FFFFFF;\n",
              "    }\n",
              "  </style>\n",
              "\n",
              "    <script>\n",
              "      const buttonEl =\n",
              "        document.querySelector('#df-4619a096-1062-4aee-841b-d0ab0ceed292 button.colab-df-convert');\n",
              "      buttonEl.style.display =\n",
              "        google.colab.kernel.accessAllowed ? 'block' : 'none';\n",
              "\n",
              "      async function convertToInteractive(key) {\n",
              "        const element = document.querySelector('#df-4619a096-1062-4aee-841b-d0ab0ceed292');\n",
              "        const dataTable =\n",
              "          await google.colab.kernel.invokeFunction('convertToInteractive',\n",
              "                                                    [key], {});\n",
              "        if (!dataTable) return;\n",
              "\n",
              "        const docLinkHtml = 'Like what you see? Visit the ' +\n",
              "          '<a target=\"_blank\" href=https://colab.research.google.com/notebooks/data_table.ipynb>data table notebook</a>'\n",
              "          + ' to learn more about interactive tables.';\n",
              "        element.innerHTML = '';\n",
              "        dataTable['output_type'] = 'display_data';\n",
              "        await google.colab.output.renderOutput(dataTable, element);\n",
              "        const docLink = document.createElement('div');\n",
              "        docLink.innerHTML = docLinkHtml;\n",
              "        element.appendChild(docLink);\n",
              "      }\n",
              "    </script>\n",
              "  </div>\n",
              "\n",
              "\n",
              "<div id=\"df-b7aff554-c113-4157-a94f-727c921888ca\">\n",
              "  <button class=\"colab-df-quickchart\" onclick=\"quickchart('df-b7aff554-c113-4157-a94f-727c921888ca')\"\n",
              "            title=\"Suggest charts\"\n",
              "            style=\"display:none;\">\n",
              "\n",
              "<svg xmlns=\"http://www.w3.org/2000/svg\" height=\"24px\"viewBox=\"0 0 24 24\"\n",
              "     width=\"24px\">\n",
              "    <g>\n",
              "        <path d=\"M19 3H5c-1.1 0-2 .9-2 2v14c0 1.1.9 2 2 2h14c1.1 0 2-.9 2-2V5c0-1.1-.9-2-2-2zM9 17H7v-7h2v7zm4 0h-2V7h2v10zm4 0h-2v-4h2v4z\"/>\n",
              "    </g>\n",
              "</svg>\n",
              "  </button>\n",
              "\n",
              "<style>\n",
              "  .colab-df-quickchart {\n",
              "      --bg-color: #E8F0FE;\n",
              "      --fill-color: #1967D2;\n",
              "      --hover-bg-color: #E2EBFA;\n",
              "      --hover-fill-color: #174EA6;\n",
              "      --disabled-fill-color: #AAA;\n",
              "      --disabled-bg-color: #DDD;\n",
              "  }\n",
              "\n",
              "  [theme=dark] .colab-df-quickchart {\n",
              "      --bg-color: #3B4455;\n",
              "      --fill-color: #D2E3FC;\n",
              "      --hover-bg-color: #434B5C;\n",
              "      --hover-fill-color: #FFFFFF;\n",
              "      --disabled-bg-color: #3B4455;\n",
              "      --disabled-fill-color: #666;\n",
              "  }\n",
              "\n",
              "  .colab-df-quickchart {\n",
              "    background-color: var(--bg-color);\n",
              "    border: none;\n",
              "    border-radius: 50%;\n",
              "    cursor: pointer;\n",
              "    display: none;\n",
              "    fill: var(--fill-color);\n",
              "    height: 32px;\n",
              "    padding: 0;\n",
              "    width: 32px;\n",
              "  }\n",
              "\n",
              "  .colab-df-quickchart:hover {\n",
              "    background-color: var(--hover-bg-color);\n",
              "    box-shadow: 0 1px 2px rgba(60, 64, 67, 0.3), 0 1px 3px 1px rgba(60, 64, 67, 0.15);\n",
              "    fill: var(--button-hover-fill-color);\n",
              "  }\n",
              "\n",
              "  .colab-df-quickchart-complete:disabled,\n",
              "  .colab-df-quickchart-complete:disabled:hover {\n",
              "    background-color: var(--disabled-bg-color);\n",
              "    fill: var(--disabled-fill-color);\n",
              "    box-shadow: none;\n",
              "  }\n",
              "\n",
              "  .colab-df-spinner {\n",
              "    border: 2px solid var(--fill-color);\n",
              "    border-color: transparent;\n",
              "    border-bottom-color: var(--fill-color);\n",
              "    animation:\n",
              "      spin 1s steps(1) infinite;\n",
              "  }\n",
              "\n",
              "  @keyframes spin {\n",
              "    0% {\n",
              "      border-color: transparent;\n",
              "      border-bottom-color: var(--fill-color);\n",
              "      border-left-color: var(--fill-color);\n",
              "    }\n",
              "    20% {\n",
              "      border-color: transparent;\n",
              "      border-left-color: var(--fill-color);\n",
              "      border-top-color: var(--fill-color);\n",
              "    }\n",
              "    30% {\n",
              "      border-color: transparent;\n",
              "      border-left-color: var(--fill-color);\n",
              "      border-top-color: var(--fill-color);\n",
              "      border-right-color: var(--fill-color);\n",
              "    }\n",
              "    40% {\n",
              "      border-color: transparent;\n",
              "      border-right-color: var(--fill-color);\n",
              "      border-top-color: var(--fill-color);\n",
              "    }\n",
              "    60% {\n",
              "      border-color: transparent;\n",
              "      border-right-color: var(--fill-color);\n",
              "    }\n",
              "    80% {\n",
              "      border-color: transparent;\n",
              "      border-right-color: var(--fill-color);\n",
              "      border-bottom-color: var(--fill-color);\n",
              "    }\n",
              "    90% {\n",
              "      border-color: transparent;\n",
              "      border-bottom-color: var(--fill-color);\n",
              "    }\n",
              "  }\n",
              "</style>\n",
              "\n",
              "  <script>\n",
              "    async function quickchart(key) {\n",
              "      const quickchartButtonEl =\n",
              "        document.querySelector('#' + key + ' button');\n",
              "      quickchartButtonEl.disabled = true;  // To prevent multiple clicks.\n",
              "      quickchartButtonEl.classList.add('colab-df-spinner');\n",
              "      try {\n",
              "        const charts = await google.colab.kernel.invokeFunction(\n",
              "            'suggestCharts', [key], {});\n",
              "      } catch (error) {\n",
              "        console.error('Error during call to suggestCharts:', error);\n",
              "      }\n",
              "      quickchartButtonEl.classList.remove('colab-df-spinner');\n",
              "      quickchartButtonEl.classList.add('colab-df-quickchart-complete');\n",
              "    }\n",
              "    (() => {\n",
              "      let quickchartButtonEl =\n",
              "        document.querySelector('#df-b7aff554-c113-4157-a94f-727c921888ca button');\n",
              "      quickchartButtonEl.style.display =\n",
              "        google.colab.kernel.accessAllowed ? 'block' : 'none';\n",
              "    })();\n",
              "  </script>\n",
              "</div>\n",
              "\n",
              "    </div>\n",
              "  </div>\n"
            ],
            "application/vnd.google.colaboratory.intrinsic+json": {
              "type": "dataframe",
              "variable_name": "df",
              "summary": "{\n  \"name\": \"df\",\n  \"rows\": 4862,\n  \"fields\": [\n    {\n      \"column\": \"marca\",\n      \"properties\": {\n        \"dtype\": \"category\",\n        \"num_unique_values\": 6,\n        \"samples\": [\n          \"claro\",\n          \"entel\",\n          \"directv\"\n        ],\n        \"semantic_type\": \"\",\n        \"description\": \"\"\n      }\n    },\n    {\n      \"column\": \"Producto\",\n      \"properties\": {\n        \"dtype\": \"category\",\n        \"num_unique_values\": 8,\n        \"samples\": [\n          \"PREPAGO\",\n          \"MARCA\",\n          \"MOVIL\"\n        ],\n        \"semantic_type\": \"\",\n        \"description\": \"\"\n      }\n    },\n    {\n      \"column\": \"Advertisement\",\n      \"properties\": {\n        \"dtype\": \"string\",\n        \"num_unique_values\": 4860,\n        \"samples\": [\n          \"https://ads.admetricks.com/banner_9a62850df1863f62b0f64ca903633aa5.jpg\",\n          \"https://ads.admetricks.com/banner_cc64659410d2e31d55571c8d7a3170d1.jpg\",\n          \"https://ads.admetricks.com/banner_b280b16a767a9d9d4d1fb03e9d384c27.jpg\"\n        ],\n        \"semantic_type\": \"\",\n        \"description\": \"\"\n      }\n    },\n    {\n      \"column\": \"Gatillador\",\n      \"properties\": {\n        \"dtype\": \"category\",\n        \"num_unique_values\": 27,\n        \"samples\": [\n          \"CUOTAS\",\n          \"ILIMITADO\",\n          \"VELOCIDAD\"\n        ],\n        \"semantic_type\": \"\",\n        \"description\": \"\"\n      }\n    },\n    {\n      \"column\": \"ruta_local_imagen\",\n      \"properties\": {\n        \"dtype\": \"string\",\n        \"num_unique_values\": 4862,\n        \"samples\": [\n          \"/content/drive/MyDrive/archivos_proyecto_deep/claro/20888.jpg\",\n          \"/content/drive/MyDrive/archivos_proyecto_deep/movistar/22406.jpg\",\n          \"/content/drive/MyDrive/archivos_proyecto_deep/entel/21568.jpg\"\n        ],\n        \"semantic_type\": \"\",\n        \"description\": \"\"\n      }\n    }\n  ]\n}"
            }
          },
          "metadata": {},
          "execution_count": 6
        }
      ]
    },
    {
      "cell_type": "markdown",
      "source": [
        "## Descargar imágenes y alamacenarlas en drive"
      ],
      "metadata": {
        "id": "HqtgJXyPI_dX"
      }
    },
    {
      "cell_type": "code",
      "execution_count": null,
      "metadata": {
        "id": "CFphMJiznUlG"
      },
      "outputs": [],
      "source": [
        "import os\n",
        "import pandas as pd\n",
        "import requests\n",
        "from PIL import Image\n",
        "from io import BytesIO\n",
        "from tqdm import tqdm\n",
        "\n",
        "# Crear los directorios necesarios\n",
        "def create_directories(base_path, brands):\n",
        "    for brand in brands:\n",
        "        os.makedirs(os.path.join(base_path, brand), exist_ok=True)\n",
        "\n",
        "# Función para descargar y guardar imágenes\n",
        "def download_image(url, save_path):\n",
        "    try:\n",
        "        response = requests.get(url, stream=True)\n",
        "        response.raise_for_status()\n",
        "        img = Image.open(BytesIO(response.content))\n",
        "        img.save(save_path)\n",
        "    except Exception as e:\n",
        "        print(f\"Failed to download {url}: {e}\")\n"
      ]
    },
    {
      "cell_type": "code",
      "execution_count": 7,
      "metadata": {
        "id": "0jxOpUT9pXjv"
      },
      "outputs": [],
      "source": [
        "# Obtener las marcas únicas para crear directorios\n",
        "brands = df['marca'].unique()\n",
        "#create_directories(ruta_fuente, brands)\n"
      ]
    },
    {
      "cell_type": "code",
      "execution_count": null,
      "metadata": {
        "colab": {
          "base_uri": "https://localhost:8080/"
        },
        "id": "9Llaf7W_nZuH",
        "outputId": "c1d049dd-9bc3-4eea-869a-1dcc0a957102"
      },
      "outputs": [
        {
          "output_type": "stream",
          "name": "stderr",
          "text": [
            " 30%|██▉       | 1448/4862 [21:23<3:58:31,  4.19s/it]"
          ]
        },
        {
          "output_type": "stream",
          "name": "stdout",
          "text": [
            "Failed to download https://ads.admetricks.com/banner_d2ddfc7029a1490328be977ccaf2ab35.jpg: 520 Server Error:  for url: https://ads.admetricks.com/banner_d2ddfc7029a1490328be977ccaf2ab35.jpg\n"
          ]
        },
        {
          "output_type": "stream",
          "name": "stderr",
          "text": [
            "100%|██████████| 4862/4862 [1:13:10<00:00,  1.11it/s]\n"
          ]
        }
      ],
      "source": [
        "# Descargar y guardar las imágenes en los directorios correspondientes\n",
        "for index, row in tqdm(df.iterrows(), total=df.shape[0]):\n",
        "    brand = row['marca']\n",
        "    image_url = row['Advertisement']\n",
        "    save_path = os.path.join(ruta_fuente, brand, f\"{index}.jpg\")\n",
        "    download_image(image_url, save_path)"
      ]
    },
    {
      "cell_type": "markdown",
      "metadata": {
        "id": "8VqtD33NoD0C"
      },
      "source": [
        "### Redimensionar y Normalizar Imagenes"
      ]
    },
    {
      "cell_type": "code",
      "execution_count": null,
      "metadata": {
        "colab": {
          "base_uri": "https://localhost:8080/"
        },
        "id": "CcFe2RBzoCx6",
        "outputId": "35f121a7-4794-44b8-80c6-e96071366e12"
      },
      "outputs": [
        {
          "output_type": "stream",
          "name": "stdout",
          "text": [
            "Found 4022 images belonging to 6 classes.\n",
            "Found 1001 images belonging to 6 classes.\n"
          ]
        }
      ],
      "source": [
        "from tensorflow.keras.preprocessing.image import ImageDataGenerator\n",
        "import numpy as np\n",
        "\n",
        "# Definir un generador de datos con aumentación de datos\n",
        "datagen = ImageDataGenerator(\n",
        "    rescale=1./255,\n",
        "    shear_range=0.2,\n",
        "    zoom_range=0.2,\n",
        "    horizontal_flip=True,\n",
        "    validation_split=0.2  # Usar el 20% de los datos para validación\n",
        ")\n",
        "\n",
        "# Configurar generadores para entrenamiento y validación\n",
        "train_generator = datagen.flow_from_directory(\n",
        "    base_path,\n",
        "    target_size=(224, 224),\n",
        "    batch_size=32,\n",
        "    class_mode='categorical',\n",
        "    subset='training'\n",
        ")\n",
        "\n",
        "validation_generator = datagen.flow_from_directory(\n",
        "    base_path,\n",
        "    target_size=(224, 224),\n",
        "    batch_size=32,\n",
        "    class_mode='categorical',\n",
        "    subset='validation'\n",
        ")"
      ]
    },
    {
      "cell_type": "markdown",
      "metadata": {
        "id": "PB95v3GHoZjP"
      },
      "source": [
        "### Crear el Modelo con Transfer Learning"
      ]
    },
    {
      "cell_type": "code",
      "execution_count": null,
      "metadata": {
        "colab": {
          "base_uri": "https://localhost:8080/"
        },
        "id": "7CrkCq6ioZIe",
        "outputId": "17ccb400-2d21-48c1-eedd-17b8fd5e8045"
      },
      "outputs": [
        {
          "output_type": "stream",
          "name": "stderr",
          "text": [
            "WARNING:absl:`lr` is deprecated in Keras optimizer, please use `learning_rate` or use the legacy optimizer, e.g.,tf.keras.optimizers.legacy.Adam.\n"
          ]
        },
        {
          "output_type": "stream",
          "name": "stdout",
          "text": [
            "Model: \"model_2\"\n",
            "_________________________________________________________________\n",
            " Layer (type)                Output Shape              Param #   \n",
            "=================================================================\n",
            " input_3 (InputLayer)        [(None, 224, 224, 3)]     0         \n",
            "                                                                 \n",
            " block1_conv1 (Conv2D)       (None, 224, 224, 64)      1792      \n",
            "                                                                 \n",
            " block1_conv2 (Conv2D)       (None, 224, 224, 64)      36928     \n",
            "                                                                 \n",
            " block1_pool (MaxPooling2D)  (None, 112, 112, 64)      0         \n",
            "                                                                 \n",
            " block2_conv1 (Conv2D)       (None, 112, 112, 128)     73856     \n",
            "                                                                 \n",
            " block2_conv2 (Conv2D)       (None, 112, 112, 128)     147584    \n",
            "                                                                 \n",
            " block2_pool (MaxPooling2D)  (None, 56, 56, 128)       0         \n",
            "                                                                 \n",
            " block3_conv1 (Conv2D)       (None, 56, 56, 256)       295168    \n",
            "                                                                 \n",
            " block3_conv2 (Conv2D)       (None, 56, 56, 256)       590080    \n",
            "                                                                 \n",
            " block3_conv3 (Conv2D)       (None, 56, 56, 256)       590080    \n",
            "                                                                 \n",
            " block3_pool (MaxPooling2D)  (None, 28, 28, 256)       0         \n",
            "                                                                 \n",
            " block4_conv1 (Conv2D)       (None, 28, 28, 512)       1180160   \n",
            "                                                                 \n",
            " block4_conv2 (Conv2D)       (None, 28, 28, 512)       2359808   \n",
            "                                                                 \n",
            " block4_conv3 (Conv2D)       (None, 28, 28, 512)       2359808   \n",
            "                                                                 \n",
            " block4_pool (MaxPooling2D)  (None, 14, 14, 512)       0         \n",
            "                                                                 \n",
            " block5_conv1 (Conv2D)       (None, 14, 14, 512)       2359808   \n",
            "                                                                 \n",
            " block5_conv2 (Conv2D)       (None, 14, 14, 512)       2359808   \n",
            "                                                                 \n",
            " block5_conv3 (Conv2D)       (None, 14, 14, 512)       2359808   \n",
            "                                                                 \n",
            " block5_pool (MaxPooling2D)  (None, 7, 7, 512)         0         \n",
            "                                                                 \n",
            " global_average_pooling2d_2  (None, 512)               0         \n",
            "  (GlobalAveragePooling2D)                                       \n",
            "                                                                 \n",
            " dense_2 (Dense)             (None, 1024)              525312    \n",
            "                                                                 \n",
            " empresa_output (Dense)      (None, 6)                 6150      \n",
            "                                                                 \n",
            "=================================================================\n",
            "Total params: 15246150 (58.16 MB)\n",
            "Trainable params: 531462 (2.03 MB)\n",
            "Non-trainable params: 14714688 (56.13 MB)\n",
            "_________________________________________________________________\n"
          ]
        }
      ],
      "source": [
        "from tensorflow.keras.applications import VGG16\n",
        "from tensorflow.keras.models import Model\n",
        "from tensorflow.keras.layers import Dense, GlobalAveragePooling2D, Input\n",
        "from tensorflow.keras.optimizers import Adam\n",
        "\n",
        "# Cargar el modelo base preentrenado VGG16 sin la capa superior\n",
        "base_model = VGG16(weights='imagenet', include_top=False, input_shape=(224, 224, 3))\n",
        "\n",
        "# Congelar las capas del modelo base\n",
        "for layer in base_model.layers:\n",
        "    layer.trainable = False\n",
        "\n",
        "# Añadir nuevas capas para la clasificación\n",
        "x = base_model.output\n",
        "x = GlobalAveragePooling2D()(x)\n",
        "x = Dense(1024, activation='relu')(x)\n",
        "output_empresa = Dense(len(brands), activation='softmax', name='empresa_output')(x)\n",
        "\n",
        "# Crear el modelo final\n",
        "model = Model(inputs=base_model.input, outputs=output_empresa)\n",
        "\n",
        "# Compilar el modelo\n",
        "model.compile(optimizer=Adam(lr=0.001), loss='categorical_crossentropy', metrics=['accuracy'])\n",
        "\n",
        "# Resumen del modelo\n",
        "model.summary()\n"
      ]
    },
    {
      "cell_type": "code",
      "execution_count": null,
      "metadata": {
        "colab": {
          "base_uri": "https://localhost:8080/"
        },
        "id": "WMszoWkRp_DD",
        "outputId": "e81f6896-acb4-4c1d-dc25-94e9e76da524"
      },
      "outputs": [
        {
          "output_type": "stream",
          "name": "stdout",
          "text": [
            "Epoch 1/10\n",
            "125/125 [==============================] - 121s 725ms/step - loss: 0.5635 - accuracy: 0.8143 - val_loss: 0.8704 - val_accuracy: 0.6633\n",
            "Epoch 2/10\n",
            "125/125 [==============================] - 80s 638ms/step - loss: 0.2987 - accuracy: 0.9120 - val_loss: 0.9248 - val_accuracy: 0.7228\n",
            "Epoch 3/10\n",
            "125/125 [==============================] - 85s 677ms/step - loss: 0.2367 - accuracy: 0.9301 - val_loss: 0.9033 - val_accuracy: 0.6663\n",
            "Epoch 4/10\n",
            "125/125 [==============================] - 84s 675ms/step - loss: 0.2127 - accuracy: 0.9348 - val_loss: 0.9012 - val_accuracy: 0.6885\n",
            "Epoch 5/10\n",
            "125/125 [==============================] - 86s 691ms/step - loss: 0.1899 - accuracy: 0.9401 - val_loss: 0.9981 - val_accuracy: 0.6190\n",
            "Epoch 6/10\n",
            "125/125 [==============================] - 83s 665ms/step - loss: 0.1772 - accuracy: 0.9446 - val_loss: 0.8677 - val_accuracy: 0.6663\n",
            "Epoch 7/10\n",
            "125/125 [==============================] - 81s 645ms/step - loss: 0.1622 - accuracy: 0.9484 - val_loss: 0.8564 - val_accuracy: 0.7319\n",
            "Epoch 8/10\n",
            "125/125 [==============================] - 83s 667ms/step - loss: 0.1594 - accuracy: 0.9481 - val_loss: 0.7786 - val_accuracy: 0.7157\n",
            "Epoch 9/10\n",
            "125/125 [==============================] - 83s 668ms/step - loss: 0.1411 - accuracy: 0.9539 - val_loss: 0.7588 - val_accuracy: 0.7238\n",
            "Epoch 10/10\n",
            "125/125 [==============================] - 83s 667ms/step - loss: 0.1319 - accuracy: 0.9576 - val_loss: 0.8096 - val_accuracy: 0.6875\n"
          ]
        },
        {
          "output_type": "execute_result",
          "data": {
            "text/plain": [
              "<keras.src.callbacks.History at 0x79d0b065df00>"
            ]
          },
          "metadata": {},
          "execution_count": 41
        }
      ],
      "source": [
        "# Entrenar el modelo\n",
        "model.fit(\n",
        "    train_generator,\n",
        "    steps_per_epoch=train_generator.samples // train_generator.batch_size,\n",
        "    validation_data=validation_generator,\n",
        "    validation_steps=validation_generator.samples // validation_generator.batch_size,\n",
        "    epochs=10\n",
        ")\n",
        "\n"
      ]
    },
    {
      "cell_type": "code",
      "execution_count": null,
      "metadata": {
        "colab": {
          "base_uri": "https://localhost:8080/"
        },
        "id": "Mmlfl8TV0Bf3",
        "outputId": "99f610cd-a570-491d-8307-81cacda94451"
      },
      "outputs": [
        {
          "output_type": "stream",
          "name": "stdout",
          "text": [
            "['claro' 'entel' 'movistar' 'bantel perú' 'bitel' 'directv']\n"
          ]
        }
      ],
      "source": [
        "model\n",
        "print(brands)"
      ]
    },
    {
      "cell_type": "code",
      "execution_count": null,
      "metadata": {
        "colab": {
          "base_uri": "https://localhost:8080/"
        },
        "id": "DstDaYLbrjpS",
        "outputId": "0140a61b-fce5-430a-aae4-55f6770b052e"
      },
      "outputs": [
        {
          "output_type": "stream",
          "name": "stdout",
          "text": [
            "/content/drive/MyDrive/archivos_proyecto_deep/model_empresa_classification.h5\n"
          ]
        },
        {
          "output_type": "stream",
          "name": "stderr",
          "text": [
            "/usr/local/lib/python3.10/dist-packages/keras/src/engine/training.py:3103: UserWarning: You are saving your model as an HDF5 file via `model.save()`. This file format is considered legacy. We recommend using instead the native Keras format, e.g. `model.save('my_model.keras')`.\n",
            "  saving_api.save_model(\n"
          ]
        }
      ],
      "source": [
        "salida_modelo = 'model_empresa_classification.h5'\n",
        "ruta_modelo = base_path+salida_modelo\n",
        "print(ruta_modelo)\n",
        "\n",
        "# Guardar el modelo entrenado\n",
        "model.save(ruta_modelo)"
      ]
    },
    {
      "cell_type": "markdown",
      "metadata": {
        "id": "BEpEuaT9sOUl"
      },
      "source": [
        "### Clasificar el Gatillador\n"
      ]
    },
    {
      "cell_type": "code",
      "execution_count": null,
      "metadata": {
        "id": "yB0Jr1L3qCsn"
      },
      "outputs": [],
      "source": [
        "# Añadir capas adicionales para la clasificación del gatillador\n",
        "output_gatillador = Dense(len(df['Gatillador'].unique()), activation='softmax', name='gatillador_output')(x)\n",
        "\n",
        "# Crear el modelo con dos salidas\n",
        "model_multi_output = Model(inputs=base_model.input, outputs=[output_empresa, output_gatillador])\n",
        "\n",
        "# Compilar el modelo con dos pérdidas\n",
        "model_multi_output.compile(optimizer=Adam(lr=0.001),\n",
        "                           loss={'empresa_output': 'categorical_crossentropy', 'gatillador_output': 'categorical_crossentropy'},\n",
        "                           metrics=['accuracy'])\n",
        "\n",
        "# Resumen del modelo\n",
        "model_multi_output.summary()\n",
        "\n",
        "# Entrenar el modelo con dos salidas\n",
        "model_multi_output.fit(\n",
        "    train_generator,\n",
        "    steps_per_epoch=train_generator.samples // train_generator.batch_size,\n",
        "    validation_data=validation_generator,\n",
        "    validation_steps=validation_generator.samples // validation_generator.batch_size,\n",
        "    epochs=10\n",
        ")\n",
        "\n",
        "# Guardar el modelo entrenado\n",
        "model_multi_output.save('model_empresa_gatillador_classification.h5')"
      ]
    },
    {
      "cell_type": "code",
      "execution_count": null,
      "metadata": {
        "colab": {
          "base_uri": "https://localhost:8080/"
        },
        "id": "tF3u_gHArjCZ",
        "outputId": "77cfffde-ed04-49ef-b6ec-27d2de3064c8"
      },
      "outputs": [
        {
          "output_type": "stream",
          "name": "stdout",
          "text": [
            "hola\n"
          ]
        },
        {
          "output_type": "execute_result",
          "data": {
            "text/plain": [
              "array(['claro', 'entel', 'movistar', 'bantel perú', 'bitel', 'directv'],\n",
              "      dtype=object)"
            ]
          },
          "metadata": {},
          "execution_count": 20
        }
      ],
      "source": [
        "# prompt: print hola\n",
        "\n",
        "print(\"hola\")\n",
        "brands\n"
      ]
    },
    {
      "cell_type": "markdown",
      "source": [
        "## Nueva prueba extrayendo texto de la imagen.."
      ],
      "metadata": {
        "id": "a4pc3ouglmRg"
      }
    },
    {
      "cell_type": "markdown",
      "source": [],
      "metadata": {
        "id": "UeXCMQmWlpf2"
      }
    },
    {
      "cell_type": "code",
      "source": [
        "!pip install pytesseract"
      ],
      "metadata": {
        "colab": {
          "base_uri": "https://localhost:8080/"
        },
        "id": "cv24YoumltrL",
        "outputId": "b4c65561-41c3-4ca1-a5ef-099627c549d0"
      },
      "execution_count": 9,
      "outputs": [
        {
          "output_type": "stream",
          "name": "stdout",
          "text": [
            "Collecting pytesseract\n",
            "  Downloading pytesseract-0.3.10-py3-none-any.whl (14 kB)\n",
            "Requirement already satisfied: packaging>=21.3 in /usr/local/lib/python3.10/dist-packages (from pytesseract) (24.0)\n",
            "Requirement already satisfied: Pillow>=8.0.0 in /usr/local/lib/python3.10/dist-packages (from pytesseract) (9.4.0)\n",
            "Installing collected packages: pytesseract\n",
            "Successfully installed pytesseract-0.3.10\n"
          ]
        }
      ]
    },
    {
      "cell_type": "code",
      "source": [],
      "metadata": {
        "id": "RiPVArcxl0hp"
      },
      "execution_count": null,
      "outputs": []
    },
    {
      "cell_type": "code",
      "source": [
        "!apt-get install tesseract-ocr"
      ],
      "metadata": {
        "colab": {
          "base_uri": "https://localhost:8080/"
        },
        "id": "DS11EeaRlpxn",
        "outputId": "9fcc5ecf-bbbd-4dfe-8c9d-86aaa7a44196"
      },
      "execution_count": 10,
      "outputs": [
        {
          "output_type": "stream",
          "name": "stdout",
          "text": [
            "Reading package lists... Done\n",
            "Building dependency tree... Done\n",
            "Reading state information... Done\n",
            "The following additional packages will be installed:\n",
            "  tesseract-ocr-eng tesseract-ocr-osd\n",
            "The following NEW packages will be installed:\n",
            "  tesseract-ocr tesseract-ocr-eng tesseract-ocr-osd\n",
            "0 upgraded, 3 newly installed, 0 to remove and 45 not upgraded.\n",
            "Need to get 4,816 kB of archives.\n",
            "After this operation, 15.6 MB of additional disk space will be used.\n",
            "Get:1 http://archive.ubuntu.com/ubuntu jammy/universe amd64 tesseract-ocr-eng all 1:4.00~git30-7274cfa-1.1 [1,591 kB]\n",
            "Get:2 http://archive.ubuntu.com/ubuntu jammy/universe amd64 tesseract-ocr-osd all 1:4.00~git30-7274cfa-1.1 [2,990 kB]\n",
            "Get:3 http://archive.ubuntu.com/ubuntu jammy/universe amd64 tesseract-ocr amd64 4.1.1-2.1build1 [236 kB]\n",
            "Fetched 4,816 kB in 1s (4,188 kB/s)\n",
            "Selecting previously unselected package tesseract-ocr-eng.\n",
            "(Reading database ... 121918 files and directories currently installed.)\n",
            "Preparing to unpack .../tesseract-ocr-eng_1%3a4.00~git30-7274cfa-1.1_all.deb ...\n",
            "Unpacking tesseract-ocr-eng (1:4.00~git30-7274cfa-1.1) ...\n",
            "Selecting previously unselected package tesseract-ocr-osd.\n",
            "Preparing to unpack .../tesseract-ocr-osd_1%3a4.00~git30-7274cfa-1.1_all.deb ...\n",
            "Unpacking tesseract-ocr-osd (1:4.00~git30-7274cfa-1.1) ...\n",
            "Selecting previously unselected package tesseract-ocr.\n",
            "Preparing to unpack .../tesseract-ocr_4.1.1-2.1build1_amd64.deb ...\n",
            "Unpacking tesseract-ocr (4.1.1-2.1build1) ...\n",
            "Setting up tesseract-ocr-eng (1:4.00~git30-7274cfa-1.1) ...\n",
            "Setting up tesseract-ocr-osd (1:4.00~git30-7274cfa-1.1) ...\n",
            "Setting up tesseract-ocr (4.1.1-2.1build1) ...\n",
            "Processing triggers for man-db (2.10.2-1) ...\n"
          ]
        }
      ]
    },
    {
      "cell_type": "code",
      "source": [
        "from tensorflow.keras.preprocessing import image\n",
        "import pytesseract\n",
        "from PIL import Image\n",
        "\n",
        "def extract_text_from_image(image_path):\n",
        "    img = Image.open(image_path)\n",
        "    text = pytesseract.image_to_string(img)\n",
        "    return text\n",
        "\n",
        "# Función para extraer texto de una imagen utilizando OCR\n",
        "def extract_text_from_image(image_path):\n",
        "    img = Image.open(image_path)\n",
        "    text = pytesseract.image_to_string(img)\n",
        "    return text\n",
        "\n",
        "extract_text_from_image('/content/drive/MyDrive/archivos_proyecto_deep/directv/20542.jpg')\n"
      ],
      "metadata": {
        "colab": {
          "base_uri": "https://localhost:8080/",
          "height": 53
        },
        "id": "OSV5TkWfl1Er",
        "outputId": "84bc8fb6-7263-456a-f2b3-48cc2abee14e"
      },
      "execution_count": null,
      "outputs": [
        {
          "output_type": "execute_result",
          "data": {
            "text/plain": [
              "'Llego la Fibra a DIRECTV Ox\\n\\nContrata DGO + Fibra + Ligaimax por solo $/149 por\\nmes. Te duplicamos los megas!\\n\\x0c'"
            ],
            "application/vnd.google.colaboratory.intrinsic+json": {
              "type": "string"
            }
          },
          "metadata": {},
          "execution_count": 64
        }
      ]
    },
    {
      "cell_type": "code",
      "source": [
        "import numpy as np\n",
        "import tensorflow as tf\n",
        "from tensorflow.keras.applications import VGG16\n",
        "from tensorflow.keras.preprocessing import image\n",
        "from tensorflow.keras.applications.vgg16 import preprocess_input\n",
        "from tensorflow.keras.layers import Dense, GlobalAveragePooling2D, Concatenate, Input, Embedding, LSTM\n",
        "from tensorflow.keras.models import Model\n",
        "from tensorflow.keras.preprocessing.text import Tokenizer\n",
        "from tensorflow.keras.preprocessing.sequence import pad_sequences\n",
        "from tensorflow.keras.utils import to_categorical\n",
        "import pytesseract\n",
        "from PIL import Image\n",
        "import os\n",
        "import re\n",
        "import nltk\n",
        "from sklearn.model_selection import train_test_split\n",
        "\n",
        "# Descargar recursos necesarios de nltk\n",
        "nltk.download('punkt')\n",
        "nltk.download('stopwords')\n",
        "nltk.download('wordnet')\n",
        "nltk.download('omw-1.4')\n",
        "from nltk.corpus import stopwords\n",
        "from nltk.tokenize import word_tokenize\n",
        "from nltk.stem import WordNetLemmatizer\n",
        "\n",
        "# Asegúrate de que pytesseract apunte al ejecutable de Tesseract\n",
        "#pytesseract.pytesseract.tesseract_cmd = r'C:\\Program Files\\Tesseract-OCR\\tesseract.exe'\n"
      ],
      "metadata": {
        "colab": {
          "base_uri": "https://localhost:8080/"
        },
        "id": "byY1H--Ooqju",
        "outputId": "c4c3de7e-554b-40bd-8078-a9c1c73e1e28"
      },
      "execution_count": 11,
      "outputs": [
        {
          "output_type": "stream",
          "name": "stderr",
          "text": [
            "[nltk_data] Downloading package punkt to /root/nltk_data...\n",
            "[nltk_data]   Unzipping tokenizers/punkt.zip.\n",
            "[nltk_data] Downloading package stopwords to /root/nltk_data...\n",
            "[nltk_data]   Unzipping corpora/stopwords.zip.\n",
            "[nltk_data] Downloading package wordnet to /root/nltk_data...\n",
            "[nltk_data] Downloading package omw-1.4 to /root/nltk_data...\n"
          ]
        }
      ]
    },
    {
      "cell_type": "code",
      "source": [
        "lemmatizer = WordNetLemmatizer()\n",
        "stop_words = set(stopwords.words('spanish'))\n",
        "\n",
        "# Limpieza de texto\n",
        "def clean_text(text):\n",
        "    text = re.sub(r'\\W', ' ', text)\n",
        "    text = re.sub(r'\\s+', ' ', text)\n",
        "    text = text.lower()\n",
        "    tokens = word_tokenize(text)\n",
        "    cleaned_tokens = [lemmatizer.lemmatize(word) for word in tokens if word not in stop_words]\n",
        "    cleaned_text = ' '.join(cleaned_tokens)\n",
        "    return cleaned_text\n",
        "\n",
        "# Extraer texto de imaganes\n",
        "def extract_text_from_image(image_path):\n",
        "    img = Image.open(image_path)\n",
        "    text = pytesseract.image_to_string(img)\n",
        "    return text\n",
        "\n",
        "#Procesar imaganes\n",
        "def process_image(image_path):\n",
        "    img = image.load_img(image_path, target_size=(224, 224))\n",
        "    x = image.img_to_array(img)\n",
        "    #x = np.expand_dims(x, axis=0)\n",
        "    x = preprocess_input(x)\n",
        "    return x"
      ],
      "metadata": {
        "id": "0B6orR5fs4u0"
      },
      "execution_count": 12,
      "outputs": []
    },
    {
      "cell_type": "code",
      "source": [
        "process_image('/content/drive/MyDrive/archivos_proyecto_deep/claro/291.jpg').shape"
      ],
      "metadata": {
        "colab": {
          "base_uri": "https://localhost:8080/"
        },
        "id": "k8NyJJZeA7iO",
        "outputId": "1cd04230-816e-4168-c2b2-4b6a7f556c64"
      },
      "execution_count": 13,
      "outputs": [
        {
          "output_type": "execute_result",
          "data": {
            "text/plain": [
              "(224, 224, 3)"
            ]
          },
          "metadata": {},
          "execution_count": 13
        }
      ]
    },
    {
      "cell_type": "code",
      "source": [
        "#process_image('/content/drive/MyDrive/archivos_proyecto_deep/bitel/10984.jpg')\n",
        "#text = extract_text_from_image('/content/drive/MyDrive/archivos_proyecto_deep/directv/20542.jpg')\n",
        "text = extract_text_from_image('/content/drive/MyDrive/archivos_proyecto_deep/claro/291.jpg')\n",
        "print(text)\n",
        "cleaned_text = clean_text(text)\n",
        "print(cleaned_text)"
      ],
      "metadata": {
        "colab": {
          "base_uri": "https://localhost:8080/"
        },
        "id": "NRDOkyWuo4Hn",
        "outputId": "effb8f43-3d29-4f7b-a7a4-073aeb0341ab"
      },
      "execution_count": null,
      "outputs": [
        {
          "output_type": "stream",
          "name": "stdout",
          "text": [
            "Claro Perd @\n",
            "Sponsored - @\n",
            "\n",
            "iSol, playa, arena y la Fibra Optica de Claro en tu casa... See more\n",
            "\n",
            "Claro~\n",
            "\n",
            "  \n",
            "\n",
            "Nera}\n",
            "\n",
            "GRATIS\n",
            "\n",
            "tienda\n",
            "Internet TODO el verano! [ SHOP NOW |\n",
            "En el mar la vida es més sabrosa si contratas la... —————\n",
            "\n",
            " \n",
            "\n",
            "aik\n",
            "\f\n",
            "claro perd sponsored isol playa arena fibra optica claro casa see more claro nera gratis tienda internet verano shop now mar vida més sabrosa si contratas aik\n"
          ]
        }
      ]
    },
    {
      "cell_type": "code",
      "source": [
        "max_words = 10000\n",
        "max_sequence_length = 100\n",
        "\n",
        "tokenizer = Tokenizer(num_words=max_words)"
      ],
      "metadata": {
        "id": "oZb1oCoHuiwU"
      },
      "execution_count": 16,
      "outputs": []
    },
    {
      "cell_type": "code",
      "source": [
        "for operador in brands:\n",
        "  print(operador)"
      ],
      "metadata": {
        "colab": {
          "base_uri": "https://localhost:8080/"
        },
        "id": "iCibUUhSyVWB",
        "outputId": "ec02ce4d-0cd7-4773-90cd-219f6395a846"
      },
      "execution_count": null,
      "outputs": [
        {
          "output_type": "stream",
          "name": "stdout",
          "text": [
            "claro\n",
            "entel\n",
            "movistar\n",
            "bantel perú\n",
            "bitel\n",
            "directv\n"
          ]
        }
      ]
    },
    {
      "cell_type": "code",
      "source": [
        "from sklearn.preprocessing import LabelEncoder\n",
        "# Obtener las rutas de las imágenes y las etiquetas de los operadores del dataframe\n",
        "all_image_paths = df['ruta_local_imagen'].tolist()\n",
        "labels = df['marca'].tolist()\n",
        "\n",
        "# Inicializar listas para almacenar características de imágenes y textos limpios\n",
        "image_features_list = []\n",
        "cleaned_texts = []\n",
        "\n",
        "# Procesar cada imagen y extraer texto\n",
        "for image_path in all_image_paths:\n",
        "    # Extraer características visuales de la imagen\n",
        "    image_features = process_image(image_path)\n",
        "\n",
        "    # Extraer y limpiar texto de la imagen\n",
        "    text = extract_text_from_image(image_path)\n",
        "    cleaned_text = clean_text(text)\n",
        "\n",
        "    # Agregar características visuales y texto limpio a las listas\n",
        "    image_features_list.append(image_features)\n",
        "    cleaned_texts.append(cleaned_text)\n",
        "\n",
        "# Convertir listas a arrays numpy\n",
        "image_features_array = np.array(image_features_list)\n",
        "text_sequences = tokenizer.texts_to_sequences(cleaned_texts)\n",
        "text_data = pad_sequences(text_sequences, maxlen=max_sequence_length)\n",
        "\n",
        "# Convertir las etiquetas de texto a enteros\n",
        "label_encoder = LabelEncoder()\n",
        "labels_encoded = label_encoder.fit_transform(labels)\n",
        "\n",
        "# Convertir las etiquetas a formato categórico\n",
        "labels_categorical = to_categorical(labels_encoded)\n",
        "\n",
        "# Dividir los datos en conjuntos de entrenamiento y prueba\n",
        "X_train_image, X_test_image, X_train_text, X_test_text, y_train, y_test = train_test_split(\n",
        "    image_features_array, text_data, labels_categorical, test_size=0.2, random_state=42)\n"
      ],
      "metadata": {
        "id": "wakRplfs0aqO"
      },
      "execution_count": null,
      "outputs": []
    },
    {
      "cell_type": "code",
      "source": [
        "# Verificar el mapeo de etiquetas\n",
        "for index, label in enumerate(label_encoder.classes_):\n",
        "    print(f\"{index}: {label}\")"
      ],
      "metadata": {
        "colab": {
          "base_uri": "https://localhost:8080/"
        },
        "id": "eTvSy-xda1cT",
        "outputId": "6732b3a7-83a6-432b-fc98-27deecc230e0"
      },
      "execution_count": null,
      "outputs": [
        {
          "output_type": "stream",
          "name": "stdout",
          "text": [
            "0: bantel perú\n",
            "1: bitel\n",
            "2: claro\n",
            "3: directv\n",
            "4: entel\n",
            "5: movistar\n"
          ]
        }
      ]
    },
    {
      "cell_type": "code",
      "source": [
        "import pickle\n",
        "\n",
        "# Save split data in pickle format\n",
        "with open('/content/drive/MyDrive/archivos_proyecto_deep/image_features_train.pkl', 'wb') as f:\n",
        "    pickle.dump(X_train_image, f)\n",
        "with open('/content/drive/MyDrive/archivos_proyecto_deep/image_features_test.pkl', 'wb') as f:\n",
        "    pickle.dump(X_test_image, f)\n",
        "with open('/content/drive/MyDrive/archivos_proyecto_deep/text_data_train.pkl', 'wb') as f:\n",
        "    pickle.dump(X_train_text, f)\n",
        "with open('/content/drive/MyDrive/archivos_proyecto_deep/text_data_test.pkl', 'wb') as f:\n",
        "    pickle.dump(X_test_text, f)\n",
        "with open('/content/drive/MyDrive/archivos_proyecto_deep/labels_train.pkl', 'wb') as f:\n",
        "    pickle.dump(y_train, f)\n",
        "with open('/content/drive/MyDrive/archivos_proyecto_deep/labels_test.pkl', 'wb') as f:\n",
        "    pickle.dump(y_test, f)\n",
        "\n",
        "print(\"Data saved successfully!\")"
      ],
      "metadata": {
        "colab": {
          "base_uri": "https://localhost:8080/"
        },
        "id": "YsHfk-bNbDjJ",
        "outputId": "10cdf7fd-aeb7-4019-c328-cbd99a54c3de"
      },
      "execution_count": null,
      "outputs": [
        {
          "output_type": "stream",
          "name": "stdout",
          "text": [
            "Data saved successfully!\n"
          ]
        }
      ]
    },
    {
      "cell_type": "code",
      "source": [
        "import pickle\n",
        "\n",
        "# Load DataFrames from pickle files\n",
        "with open('/content/drive/MyDrive/archivos_proyecto_deep/image_features_train.pkl', 'rb') as f:\n",
        "    X_train_image = pickle.load(f)\n",
        "\n",
        "with open('/content/drive/MyDrive/archivos_proyecto_deep/image_features_test.pkl', 'rb') as f:\n",
        "    X_test_image = pickle.load(f)\n",
        "\n",
        "with open('/content/drive/MyDrive/archivos_proyecto_deep/text_data_train.pkl', 'rb') as f:\n",
        "    X_train_text = pickle.load(f)\n",
        "\n",
        "with open('/content/drive/MyDrive/archivos_proyecto_deep/text_data_test.pkl', 'rb') as f:\n",
        "    X_test_text = pickle.load(f)\n",
        "\n",
        "with open('/content/drive/MyDrive/archivos_proyecto_deep/labels_train.pkl', 'rb') as f:\n",
        "    y_train = pickle.load(f)\n",
        "\n",
        "with open('/content/drive/MyDrive/archivos_proyecto_deep/labels_test.pkl', 'rb') as f:\n",
        "    y_test = pickle.load(f)\n",
        "\n",
        "print(\"Data loaded successfully!\")\n",
        "\n",
        "# Verificar las formas de los datos\n",
        "print(X_train_image.shape, X_test_image.shape)\n",
        "print(X_train_text.shape, X_test_text.shape)\n",
        "print(y_train.shape, y_test.shape)"
      ],
      "metadata": {
        "colab": {
          "base_uri": "https://localhost:8080/"
        },
        "id": "XGsLSepH1STD",
        "outputId": "d547c64a-0408-44d0-a5d5-459fadbaeda5"
      },
      "execution_count": 14,
      "outputs": [
        {
          "output_type": "stream",
          "name": "stdout",
          "text": [
            "Data loaded successfully!\n",
            "(3889, 224, 224, 3) (973, 224, 224, 3)\n",
            "(3889, 100) (973, 100)\n",
            "(3889, 6) (973, 6)\n"
          ]
        }
      ]
    },
    {
      "cell_type": "code",
      "source": [
        "from tensorflow.keras.optimizers import Adam\n",
        "\n",
        "# Cargar el modelo VGG16 preentrenado sin la última capa\n",
        "base_model = VGG16(weights='imagenet', include_top=False, input_shape=(224, 224, 3))\n",
        "\n",
        "# Congelar las capas del modelo base\n",
        "for layer in base_model.layers:\n",
        "    layer.trainable = False\n",
        "\n",
        "# Definir las entradas\n",
        "num_classes = len(brands)\n",
        "image_input = base_model.input\n",
        "text_input = Input(shape=(max_sequence_length,), dtype='int32', name='text_input')\n",
        "\n",
        "# Procesar la entrada de imagen\n",
        "x = base_model.output\n",
        "x = GlobalAveragePooling2D()(x)\n",
        "x = Dense(512, activation='relu')(x)\n",
        "\n",
        "# Procesar la entrada de texto\n",
        "text_embedding = Embedding(input_dim=max_words, output_dim=128, input_length=max_sequence_length)(text_input)\n",
        "text_lstm = LSTM(128)(text_embedding)\n",
        "\n",
        "# Concatenar las dos salidas\n",
        "concatenated = Concatenate()([x, text_lstm])\n",
        "output = Dense(num_classes, activation='softmax')(concatenated)\n",
        "\n",
        "# Definir el modelo\n",
        "model = Model(inputs=[image_input, text_input], outputs=output)\n",
        "\n",
        "# Compilar el modelo\n",
        "model.compile(optimizer=Adam(learning_rate=0.0001), loss='categorical_crossentropy', metrics=['accuracy'])\n",
        "\n",
        "# Entrenar el modelo\n",
        "history = model.fit([X_train_image, X_train_text], y_train, validation_data=([X_test_image, X_test_text], y_test), epochs=10, batch_size=32)"
      ],
      "metadata": {
        "colab": {
          "base_uri": "https://localhost:8080/"
        },
        "id": "Gqcd6Le20lBz",
        "outputId": "c2b7cff3-d911-4179-e7b0-11110a0d7cd3"
      },
      "execution_count": 17,
      "outputs": [
        {
          "output_type": "stream",
          "name": "stdout",
          "text": [
            "Epoch 1/10\n",
            "122/122 [==============================] - 42s 255ms/step - loss: 0.6095 - accuracy: 0.8246 - val_loss: 0.2525 - val_accuracy: 0.9291\n",
            "Epoch 2/10\n",
            "122/122 [==============================] - 19s 155ms/step - loss: 0.2415 - accuracy: 0.9306 - val_loss: 0.1939 - val_accuracy: 0.9414\n",
            "Epoch 3/10\n",
            "122/122 [==============================] - 21s 170ms/step - loss: 0.1756 - accuracy: 0.9457 - val_loss: 0.1879 - val_accuracy: 0.9445\n",
            "Epoch 4/10\n",
            "122/122 [==============================] - 21s 172ms/step - loss: 0.1397 - accuracy: 0.9576 - val_loss: 0.1659 - val_accuracy: 0.9517\n",
            "Epoch 5/10\n",
            "122/122 [==============================] - 21s 174ms/step - loss: 0.1182 - accuracy: 0.9635 - val_loss: 0.1564 - val_accuracy: 0.9527\n",
            "Epoch 6/10\n",
            "122/122 [==============================] - 21s 175ms/step - loss: 0.0985 - accuracy: 0.9704 - val_loss: 0.1571 - val_accuracy: 0.9507\n",
            "Epoch 7/10\n",
            "122/122 [==============================] - 21s 169ms/step - loss: 0.0865 - accuracy: 0.9743 - val_loss: 0.1441 - val_accuracy: 0.9599\n",
            "Epoch 8/10\n",
            "122/122 [==============================] - 20s 166ms/step - loss: 0.0750 - accuracy: 0.9771 - val_loss: 0.1374 - val_accuracy: 0.9568\n",
            "Epoch 9/10\n",
            "122/122 [==============================] - 21s 176ms/step - loss: 0.0679 - accuracy: 0.9799 - val_loss: 0.1320 - val_accuracy: 0.9599\n",
            "Epoch 10/10\n",
            "122/122 [==============================] - 20s 167ms/step - loss: 0.0611 - accuracy: 0.9838 - val_loss: 0.1325 - val_accuracy: 0.9630\n"
          ]
        }
      ]
    },
    {
      "cell_type": "code",
      "source": [
        "salida_modelo = '/content/drive/MyDrive/archivos_proyecto_deep/model_empresa_classification_compuesto.h5'\n",
        "print(salida_modelo)\n",
        "\n",
        "# Guardar el modelo entrenado\n",
        "model.save(salida_modelo)"
      ],
      "metadata": {
        "id": "Uoo4iEupPM5y",
        "colab": {
          "base_uri": "https://localhost:8080/"
        },
        "outputId": "c3ceee31-9e81-4307-aa8a-0c24d2e1facc"
      },
      "execution_count": 18,
      "outputs": [
        {
          "output_type": "stream",
          "name": "stdout",
          "text": [
            "/content/drive/MyDrive/archivos_proyecto_deep/model_empresa_classification_compuesto.h5\n"
          ]
        },
        {
          "output_type": "stream",
          "name": "stderr",
          "text": [
            "/usr/local/lib/python3.10/dist-packages/keras/src/engine/training.py:3103: UserWarning: You are saving your model as an HDF5 file via `model.save()`. This file format is considered legacy. We recommend using instead the native Keras format, e.g. `model.save('my_model.keras')`.\n",
            "  saving_api.save_model(\n"
          ]
        }
      ]
    }
  ],
  "metadata": {
    "accelerator": "GPU",
    "colab": {
      "gpuType": "T4",
      "provenance": []
    },
    "kernelspec": {
      "display_name": "Python 3",
      "name": "python3"
    },
    "language_info": {
      "name": "python"
    }
  },
  "nbformat": 4,
  "nbformat_minor": 0
}